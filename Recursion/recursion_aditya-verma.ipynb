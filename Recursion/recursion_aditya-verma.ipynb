{
 "metadata": {
  "language_info": {
   "codemirror_mode": {
    "name": "ipython",
    "version": 3
   },
   "file_extension": ".py",
   "mimetype": "text/x-python",
   "name": "python",
   "nbconvert_exporter": "python",
   "pygments_lexer": "ipython3",
   "version": "3.8.5-final"
  },
  "orig_nbformat": 2,
  "kernelspec": {
   "name": "python38532bit24275d7b40c645e59cf13ea5327814bb",
   "display_name": "Python 3.8.5 32-bit"
  }
 },
 "nbformat": 4,
 "nbformat_minor": 2,
 "cells": [
  {
   "source": [
    "#WAP to print 1 to n\n",
    "\n",
    "def oneton(x):\n",
    "    if x==1:\n",
    "        print(1)\n",
    "        return\n",
    "    oneton(x-1)\n",
    "    print(x)\n",
    "\n",
    "\n",
    "oneton(5)\n"
   ],
   "cell_type": "code",
   "metadata": {},
   "execution_count": 8,
   "outputs": [
    {
     "output_type": "stream",
     "name": "stdout",
     "text": [
      "1\n2\n3\n4\n5\n"
     ]
    }
   ]
  },
  {
   "cell_type": "code",
   "execution_count": 5,
   "metadata": {},
   "outputs": [
    {
     "output_type": "stream",
     "name": "stdout",
     "text": [
      "5\n4\n3\n2\n1\n"
     ]
    }
   ],
   "source": [
    "#WAP to print n to 1\n",
    "\n",
    "def ntoone(x):\n",
    "    if x==1:\n",
    "        print(1)\n",
    "        return\n",
    "\n",
    "    print(x)\n",
    "    oneton(x-1)\n",
    "    \n",
    "\n",
    "\n",
    "oneton(5)"
   ]
  },
  {
   "cell_type": "code",
   "execution_count": 7,
   "metadata": {},
   "outputs": [
    {
     "output_type": "stream",
     "name": "stdout",
     "text": [
      "6\n"
     ]
    }
   ],
   "source": [
    "# WAP to print factorial\n",
    "\n",
    "def factorial(f):\n",
    "    if f==1:\n",
    "        return 1\n",
    "    return f*factorial(f-1)\n",
    "\n",
    "print(factorial(3))"
   ]
  },
  {
   "cell_type": "code",
   "execution_count": 17,
   "metadata": {},
   "outputs": [
    {
     "output_type": "stream",
     "name": "stdout",
     "text": [
      "[1, 2, 3, 4, 9, 11, 23, 100]\n"
     ]
    }
   ],
   "source": [
    "#WAP to sort an array using recursion\n",
    "\n",
    "def sortRec(arr):\n",
    "    if len(arr)==0:\n",
    "        return\n",
    "    x=arr.pop()\n",
    "    sortRec(arr)\n",
    "    insertrec(arr,x) #here insert with recursion is used\n",
    "\n",
    "#insert with recursion\n",
    "def insertrec(iarr,y):\n",
    "    if len(iarr)==0 or iarr[-1]<=y:\n",
    "        iarr.append(y)\n",
    "        return\n",
    "    z=iarr.pop()\n",
    "    insert(iarr,y)\n",
    "    iarr.append(z)\n",
    "\n",
    "\n",
    "#insert without recursion\n",
    "def insertitr(iarr,y):\n",
    "    for g in range(len(iarr)-1,-1,-1):\n",
    "        if iarr[g]<y:\n",
    "            iarr.insert(g+1,y)\n",
    "            return\n",
    "    iarr.insert(0,y)\n",
    "\n",
    "myarr=[100,4,3,2,1,9,23,11]\n",
    "sortRec(myarr)\n",
    "print(myarr)\n"
   ]
  },
  {
   "cell_type": "code",
   "execution_count": null,
   "metadata": {},
   "outputs": [],
   "source": []
  }
 ]
}